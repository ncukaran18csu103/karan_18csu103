{
  "nbformat": 4,
  "nbformat_minor": 0,
  "metadata": {
    "colab": {
      "name": "recomende _system 21/11/20220.ipynb",
      "provenance": [],
      "collapsed_sections": [],
      "authorship_tag": "ABX9TyMcSM45+zd+W2a74PCbCOFs",
      "include_colab_link": true
    },
    "kernelspec": {
      "name": "python3",
      "display_name": "Python 3"
    }
  },
  "cells": [
    {
      "cell_type": "markdown",
      "metadata": {
        "id": "view-in-github",
        "colab_type": "text"
      },
      "source": [
        "<a href=\"https://colab.research.google.com/github/ncukaran18csu103/karan_18csu103/blob/master/recomende__system_21_11_20220.ipynb\" target=\"_parent\"><img src=\"https://colab.research.google.com/assets/colab-badge.svg\" alt=\"Open In Colab\"/></a>"
      ]
    },
    {
      "cell_type": "code",
      "metadata": {
        "colab": {
          "base_uri": "https://localhost:8080/"
        },
        "id": "0PsYRW5PKzCr",
        "outputId": "baeeeeae-4201-4497-c59d-3b0ac3348eb7"
      },
      "source": [
        "!pip install pyspark"
      ],
      "execution_count": null,
      "outputs": [
        {
          "output_type": "stream",
          "text": [
            "Requirement already satisfied: pyspark in /usr/local/lib/python3.6/dist-packages (3.0.1)\n",
            "Requirement already satisfied: py4j==0.10.9 in /usr/local/lib/python3.6/dist-packages (from pyspark) (0.10.9)\n"
          ],
          "name": "stdout"
        }
      ]
    },
    {
      "cell_type": "code",
      "metadata": {
        "id": "ei1xgNSYK9NS"
      },
      "source": [
        "from pyspark.sql import SparkSession\n",
        "spark = SparkSession.builder.appName('rec_sys').getOrCreate()\n",
        "from pyspark.ml.evaluation import RegressionEvaluator\n",
        "from pyspark.ml.recommendation import ALS"
      ],
      "execution_count": null,
      "outputs": []
    },
    {
      "cell_type": "code",
      "metadata": {
        "id": "4HJidi6KLJoL",
        "colab": {
          "base_uri": "https://localhost:8080/"
        },
        "outputId": "17968077-8602-449a-dfa6-1a5c87949616"
      },
      "source": [
        "data = spark.read.csv('movielens_ratings.csv',inferSchema=True,header=True)\n",
        "data.show()"
      ],
      "execution_count": null,
      "outputs": [
        {
          "output_type": "stream",
          "text": [
            "+-------+------+------+\n",
            "|movieId|rating|userId|\n",
            "+-------+------+------+\n",
            "|      2|   3.0|     0|\n",
            "|      3|   1.0|     0|\n",
            "|      5|   2.0|     0|\n",
            "|      9|   4.0|     0|\n",
            "|     11|   1.0|     0|\n",
            "|     12|   2.0|     0|\n",
            "|     15|   1.0|     0|\n",
            "|     17|   1.0|     0|\n",
            "|     19|   1.0|     0|\n",
            "|     21|   1.0|     0|\n",
            "|     23|   1.0|     0|\n",
            "|     26|   3.0|     0|\n",
            "|     27|   1.0|     0|\n",
            "|     28|   1.0|     0|\n",
            "|     29|   1.0|     0|\n",
            "|     30|   1.0|     0|\n",
            "|     31|   1.0|     0|\n",
            "|     34|   1.0|     0|\n",
            "|     37|   1.0|     0|\n",
            "|     41|   2.0|     0|\n",
            "+-------+------+------+\n",
            "only showing top 20 rows\n",
            "\n"
          ],
          "name": "stdout"
        }
      ]
    },
    {
      "cell_type": "code",
      "metadata": {
        "colab": {
          "base_uri": "https://localhost:8080/"
        },
        "id": "fBDxY6FATqsn",
        "outputId": "5a47909c-a85b-44e3-d63c-c74bac751c50"
      },
      "source": [
        "data.printSchema()"
      ],
      "execution_count": null,
      "outputs": [
        {
          "output_type": "stream",
          "text": [
            "root\n",
            " |-- movieId: integer (nullable = true)\n",
            " |-- rating: double (nullable = true)\n",
            " |-- userId: integer (nullable = true)\n",
            "\n"
          ],
          "name": "stdout"
        }
      ]
    },
    {
      "cell_type": "code",
      "metadata": {
        "colab": {
          "base_uri": "https://localhost:8080/"
        },
        "id": "9vxQRNSgUDvL",
        "outputId": "120f9b81-d510-4988-9072-f9415bec4faa"
      },
      "source": [
        "data.count()"
      ],
      "execution_count": null,
      "outputs": [
        {
          "output_type": "execute_result",
          "data": {
            "text/plain": [
              "1501"
            ]
          },
          "metadata": {
            "tags": []
          },
          "execution_count": 40
        }
      ]
    },
    {
      "cell_type": "code",
      "metadata": {
        "colab": {
          "base_uri": "https://localhost:8080/"
        },
        "id": "u96ErTvWTxuA",
        "outputId": "61ead2bf-ff37-4cca-f79f-84e510def345"
      },
      "source": [
        "data.describe().show()"
      ],
      "execution_count": null,
      "outputs": [
        {
          "output_type": "stream",
          "text": [
            "+-------+------------------+------------------+------------------+\n",
            "|summary|           movieId|            rating|            userId|\n",
            "+-------+------------------+------------------+------------------+\n",
            "|  count|              1501|              1501|              1501|\n",
            "|   mean| 49.40572951365756|1.7741505662891406|14.383744170552964|\n",
            "| stddev|28.937034065088994| 1.187276166124803| 8.591040424293272|\n",
            "|    min|                 0|               1.0|                 0|\n",
            "|    max|                99|               5.0|                29|\n",
            "+-------+------------------+------------------+------------------+\n",
            "\n"
          ],
          "name": "stdout"
        }
      ]
    },
    {
      "cell_type": "code",
      "metadata": {
        "colab": {
          "base_uri": "https://localhost:8080/"
        },
        "id": "Em6p5b2aT5rS",
        "outputId": "25d3ad4c-73c1-4f7a-c236-4e1bd0ae48ef"
      },
      "source": [
        "print((data['rating']==5))"
      ],
      "execution_count": null,
      "outputs": [
        {
          "output_type": "stream",
          "text": [
            "Column<b'(rating = 5)'>\n"
          ],
          "name": "stdout"
        }
      ]
    },
    {
      "cell_type": "code",
      "metadata": {
        "id": "GDpUDlMjLWMy"
      },
      "source": [
        "# Build the recommendation model using ALS on the training data\n",
        "# Smaller dataset so we will use 0.8 / 0.2\n",
        "(training, test) = data.randomSplit([0.8, 0.2])\n",
        "\n",
        "als = ALS(maxIter=2, regParam=0.01, userCol=\"userId\", itemCol=\"movieId\", ratingCol=\"rating\")\n",
        "model = als.fit(training)"
      ],
      "execution_count": null,
      "outputs": []
    },
    {
      "cell_type": "code",
      "metadata": {
        "id": "jF4irpnZLbBW"
      },
      "source": [
        "predictions = model.transform(test)"
      ],
      "execution_count": null,
      "outputs": []
    },
    {
      "cell_type": "code",
      "metadata": {
        "colab": {
          "base_uri": "https://localhost:8080/"
        },
        "id": "iL7x4to4LfjH",
        "outputId": "768a81b8-29d3-40eb-8887-7f5c2e244f11"
      },
      "source": [
        "predictions.show()"
      ],
      "execution_count": null,
      "outputs": [
        {
          "output_type": "stream",
          "text": [
            "+-------+------+------+-----------+\n",
            "|movieId|rating|userId| prediction|\n",
            "+-------+------+------+-----------+\n",
            "|     31|   3.0|     8| -2.2357826|\n",
            "|     65|   1.0|    28|  1.3509676|\n",
            "|     65|   1.0|    19|  0.7031145|\n",
            "|     65|   5.0|    23|  0.5500305|\n",
            "|     65|   1.0|     2|  0.6697277|\n",
            "|     53|   2.0|    19|  1.0796318|\n",
            "|     53|   1.0|     9|     4.5861|\n",
            "|     53|   5.0|     8|   2.699062|\n",
            "|     53|   1.0|    23|  3.4064045|\n",
            "|     53|   1.0|    25| -0.9313456|\n",
            "|     78|   1.0|    28|  0.5947387|\n",
            "|     78|   1.0|     1| 0.69995224|\n",
            "|     78|   1.0|    13|  0.4997624|\n",
            "|     78|   1.0|     4|-0.21823697|\n",
            "|     34|   1.0|    16|  2.4193988|\n",
            "|     34|   1.0|    15|  1.3011091|\n",
            "|     81|   5.0|    28|  0.5506718|\n",
            "|     81|   1.0|     6|  1.7837012|\n",
            "|     28|   1.0|     5|  1.3949606|\n",
            "|     28|   1.0|     2|  0.8820266|\n",
            "+-------+------+------+-----------+\n",
            "only showing top 20 rows\n",
            "\n"
          ],
          "name": "stdout"
        }
      ]
    },
    {
      "cell_type": "code",
      "metadata": {
        "colab": {
          "base_uri": "https://localhost:8080/"
        },
        "id": "rj9DrbxHLhX0",
        "outputId": "8d73344f-7767-49a3-dcda-76df8a64076e"
      },
      "source": [
        "evaluator = RegressionEvaluator(metricName=\"rmse\", labelCol=\"rating\",predictionCol=\"prediction\")\n",
        "rmse = evaluator.evaluate(predictions)\n",
        "print(\"Root-mean-square error = \" + str(rmse))\n",
        "\n",
        "\n",
        "evaluator = RegressionEvaluator(metricName=\"r2\", labelCol=\"rating\",predictionCol=\"prediction\")\n",
        "r2 = evaluator.evaluate(predictions)\n",
        "print(\"r2= \" + str(r2))\n",
        "\n",
        "\n",
        "evaluator = RegressionEvaluator(metricName=\"mae\", labelCol=\"rating\",predictionCol=\"prediction\")\n",
        "mae = evaluator.evaluate(predictions)\n",
        "print(\"mean absolute error = \" + str(mae))"
      ],
      "execution_count": null,
      "outputs": [
        {
          "output_type": "stream",
          "text": [
            "Root-mean-square error = 1.9075057465953156\n",
            "r2= -1.5413106774485312\n",
            "mean absolute error = 1.4644186509977346\n"
          ],
          "name": "stdout"
        }
      ]
    },
    {
      "cell_type": "code",
      "metadata": {
        "id": "r2PrxZzQLmY_"
      },
      "source": [
        "single_user = test.filter(test['userId']==20).select(['movieId','userId','rating'])"
      ],
      "execution_count": null,
      "outputs": []
    },
    {
      "cell_type": "code",
      "metadata": {
        "colab": {
          "base_uri": "https://localhost:8080/"
        },
        "id": "xvqShus9KL5L",
        "outputId": "3f6c2103-4bf4-4225-ac85-008ff257d514"
      },
      "source": [
        "single_user.show()"
      ],
      "execution_count": null,
      "outputs": [
        {
          "output_type": "stream",
          "text": [
            "+-------+------+------+\n",
            "|movieId|userId|rating|\n",
            "+-------+------+------+\n",
            "|     21|    20|   2.0|\n",
            "|     29|    20|   2.0|\n",
            "|     40|    20|   1.0|\n",
            "|     50|    20|   1.0|\n",
            "|     51|    20|   3.0|\n",
            "|     64|    20|   1.0|\n",
            "|     77|    20|   4.0|\n",
            "|     90|    20|   3.0|\n",
            "+-------+------+------+\n",
            "\n"
          ],
          "name": "stdout"
        }
      ]
    },
    {
      "cell_type": "code",
      "metadata": {
        "id": "3fNb1lW1LmwN"
      },
      "source": [
        "reccomendations = model.transform(single_user)"
      ],
      "execution_count": null,
      "outputs": []
    },
    {
      "cell_type": "code",
      "metadata": {
        "colab": {
          "base_uri": "https://localhost:8080/"
        },
        "id": "4aBm6fs7ON-e",
        "outputId": "3b96efd8-93b7-41fd-86ca-b962aba0b4ee"
      },
      "source": [
        "reccomendations.sort('prediction',ascen=True).show()"
      ],
      "execution_count": null,
      "outputs": [
        {
          "output_type": "stream",
          "text": [
            "+-------+------+------+------------+\n",
            "|movieId|userId|rating|  prediction|\n",
            "+-------+------+------+------------+\n",
            "|     77|    20|   4.0|-0.026269102|\n",
            "|     40|    20|   1.0|   0.2851828|\n",
            "|      0|    20|   1.0|  0.53675526|\n",
            "|     94|    20|   4.0|   1.0944935|\n",
            "|     45|    20|   2.0|   1.1753477|\n",
            "|     76|    20|   1.0|   1.2089039|\n",
            "|     51|    20|   3.0|   1.7421172|\n",
            "|     50|    20|   1.0|   1.8594538|\n",
            "|     73|    20|   2.0|   1.8908287|\n",
            "|     70|    20|   2.0|   1.9222051|\n",
            "|     61|    20|   1.0|   1.9425522|\n",
            "|     88|    20|   3.0|    1.955031|\n",
            "|     39|    20|   1.0|    2.367053|\n",
            "+-------+------+------+------------+\n",
            "\n"
          ],
          "name": "stdout"
        }
      ]
    },
    {
      "cell_type": "code",
      "metadata": {
        "id": "sglFGdUxPKrQ"
      },
      "source": [
        ""
      ],
      "execution_count": null,
      "outputs": []
    }
  ]
}