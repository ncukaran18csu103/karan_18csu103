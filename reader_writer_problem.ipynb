{
  "nbformat": 4,
  "nbformat_minor": 0,
  "metadata": {
    "colab": {
      "name": "reader writer problem.ipynb",
      "provenance": [],
      "authorship_tag": "ABX9TyM8zfqtZKszMXUM+bRsCsfZ",
      "include_colab_link": true
    },
    "kernelspec": {
      "name": "python3",
      "display_name": "Python 3"
    }
  },
  "cells": [
    {
      "cell_type": "markdown",
      "metadata": {
        "id": "view-in-github",
        "colab_type": "text"
      },
      "source": [
        "<a href=\"https://colab.research.google.com/github/ncukaran18csu103/karan_18csu103/blob/master/reader_writer_problem.ipynb\" target=\"_parent\"><img src=\"https://colab.research.google.com/assets/colab-badge.svg\" alt=\"Open In Colab\"/></a>"
      ]
    },
    {
      "cell_type": "code",
      "metadata": {
        "colab": {
          "base_uri": "https://localhost:8080/"
        },
        "id": "6rQs3oLwehfe",
        "outputId": "539469fb-1abe-4d3b-a678-e98a70786521"
      },
      "source": [
        "import threading as thread\n",
        "import random\n",
        "\n",
        "global x                \n",
        "x = 0\n",
        "lock = thread.Lock()    \n",
        "\n",
        "def Reader():\n",
        "    global x\n",
        "    print('Reader is Reading!')\n",
        "    lock.acquire()      \n",
        "    print('Shared Data:', x)\n",
        "    lock.release()      \n",
        "    print()\n",
        "\n",
        "def Writer():\n",
        "    global x\n",
        "    print('Writer is Writing!')\n",
        "    lock.acquire()      \n",
        "    x += 1              \n",
        "    print('Writer is Releasing the lock!')\n",
        "    lock.release()      \n",
        "    print()\n",
        "\n",
        "if __name__ == '__main__':\n",
        "    for i in range(0, 10):\n",
        "        randomNumber = random.randint(0, 100)   \n",
        "        if(randomNumber > 50):\n",
        "            Thread1 = thread.Thread(target = Reader)\n",
        "            Thread1.start()\n",
        "        else:\n",
        "            Thread2 = thread.Thread(target = Writer)\n",
        "            Thread2.start()\n",
        "\n",
        "Thread1.join()\n",
        "Thread2.join()\n",
        "\n"
      ],
      "execution_count": 1,
      "outputs": [
        {
          "output_type": "stream",
          "text": [
            "Reader is Reading!\n",
            "Shared Data: 0\n",
            "\n",
            "Reader is Reading!\n",
            "Shared Data: 0\n",
            "\n",
            "Writer is Writing!\n",
            "Writer is Releasing the lock!\n",
            "\n",
            "Reader is Reading!\n",
            "Shared Data: 1\n",
            "\n",
            "Writer is Writing!\n",
            "Writer is Releasing the lock!\n",
            "\n",
            "Reader is Reading!\n",
            "Shared Data: 2\n",
            "\n",
            "Writer is Writing!Writer is Writing!\n",
            "Writer is Releasing the lock!\n",
            "\n",
            "\n",
            "Reader is Reading!\n",
            "Shared Data: 3\n",
            "\n",
            "Writer is Writing!Writer is Releasing the lock!\n",
            "\n",
            "\n",
            "Writer is Releasing the lock!\n",
            "\n"
          ],
          "name": "stdout"
        }
      ]
    },
    {
      "cell_type": "code",
      "metadata": {
        "id": "3Og1h53keio_"
      },
      "source": [
        ""
      ],
      "execution_count": null,
      "outputs": []
    }
  ]
}