{
  "nbformat": 4,
  "nbformat_minor": 0,
  "metadata": {
    "colab": {
      "name": "Priority Scheduling.ipynb",
      "provenance": [],
      "authorship_tag": "ABX9TyNHIiuN+6iv9BqoDIrABw03",
      "include_colab_link": true
    },
    "kernelspec": {
      "name": "python3",
      "display_name": "Python 3"
    }
  },
  "cells": [
    {
      "cell_type": "markdown",
      "metadata": {
        "id": "view-in-github",
        "colab_type": "text"
      },
      "source": [
        "<a href=\"https://colab.research.google.com/github/ncukaran18csu103/karan_18csu103/blob/master/Priority_Scheduling.ipynb\" target=\"_parent\"><img src=\"https://colab.research.google.com/assets/colab-badge.svg\" alt=\"Open In Colab\"/></a>"
      ]
    },
    {
      "cell_type": "code",
      "metadata": {
        "colab": {
          "base_uri": "https://localhost:8080/"
        },
        "id": "zgksu81wOa6Y",
        "outputId": "a80c6650-3929-422a-b4f5-b5d54dca2fe1"
      },
      "source": [
        "\n",
        "print(\"Enter the number of processess: \")\n",
        "n=int(input())\n",
        "processes=[]\n",
        "for i in range(0,n):\n",
        "    processes.insert(i,i+1)\n",
        "print(\"\\nEnter the burst time of the processes: \\n\")\n",
        "bt=list(map(int, input().split()))\n",
        "print(\"\\nEnter the priority of the processes: \\n\")\n",
        "priority=list(map(int, input().split()))\n",
        "tat=[]\n",
        "wt=[]\n",
        "for i in range(0,len(priority)-1):\n",
        "    for j in range(0,len(priority)-i-1):\n",
        "        if(priority[j]>priority[j+1]):\n",
        "            swap=priority[j]\n",
        "            priority[j]=priority[j+1]\n",
        "            priority[j+1]=swap\n",
        "        swap=bt[j]\n",
        "        bt[j]=bt[j+1]\n",
        "        bt[j+1]=swap\n",
        "        swap=processes[j]\n",
        "        processes[j]=processes[j+1]\n",
        "        processes[j+1]=swap\n",
        "wt.insert(0,0)\n",
        "tat.insert(0,bt[0])\n",
        "for i in range(1,len(processes)):\n",
        "    wt.insert(i,wt[i-1]+bt[i-1])\n",
        "    tat.insert(i,wt[i]+bt[i])\n",
        "avgtat=0\n",
        "avgwt=0\n",
        "for i in range(0,len(processes)):\n",
        "    avgwt=avgwt+wt[i]\n",
        "    avgtat=avgtat+tat[i]\n",
        "avgwt=float(avgwt)/n\n",
        "avgwt=float(avgtat)/n\n",
        "print(\"\\n\")\n",
        "print(\"Process\\t  Burst Time\\t  Waiting Time\\t  Turn Around Time\")\n",
        "for i in range(0,n):\n",
        "    print(str(processes[i])+\"\\t\\t\"+str(bt[i])+\"\\t\\t\"+str(wt[i])+\"\\t\\t\"+str(tat[i]))\n",
        "    \n",
        "print(\"Average Waiting time is: \"+str(avgwt))\n",
        "print(\"Average Turn Around Time is: \"+str(avgtat))\n"
      ],
      "execution_count": 3,
      "outputs": [
        {
          "output_type": "stream",
          "text": [
            "Enter the number of processess: \n",
            "4\n",
            "\n",
            "Enter the burst time of the processes: \n",
            "\n",
            "1 5 2 6\n",
            "\n",
            "Enter the priority of the processes: \n",
            "\n",
            "2 1 4 3\n",
            "\n",
            "\n",
            "Process\t  Burst Time\t  Waiting Time\t  Turn Around Time\n",
            "4\t\t6\t\t0\t\t6\n",
            "3\t\t2\t\t6\t\t8\n",
            "2\t\t5\t\t8\t\t13\n",
            "1\t\t1\t\t13\t\t14\n",
            "Average Waiting time is: 10.25\n",
            "Average Turn Around Time is: 41\n"
          ],
          "name": "stdout"
        }
      ]
    },
    {
      "cell_type": "code",
      "metadata": {
        "id": "0E1qifElOdLV"
      },
      "source": [
        ""
      ],
      "execution_count": null,
      "outputs": []
    }
  ]
}