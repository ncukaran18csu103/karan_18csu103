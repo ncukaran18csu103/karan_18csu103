{
  "nbformat": 4,
  "nbformat_minor": 0,
  "metadata": {
    "colab": {
      "name": "SJF  premitive na non premtive.ipynb",
      "provenance": [],
      "authorship_tag": "ABX9TyNyMJYKCQgWoHEHlk0vdRMT",
      "include_colab_link": true
    },
    "kernelspec": {
      "name": "python3",
      "display_name": "Python 3"
    }
  },
  "cells": [
    {
      "cell_type": "markdown",
      "metadata": {
        "id": "view-in-github",
        "colab_type": "text"
      },
      "source": [
        "<a href=\"https://colab.research.google.com/github/ncukaran18csu103/karan_18csu103/blob/master/SJF_premitive_and_non_premtive.ipynb\" target=\"_parent\"><img src=\"https://colab.research.google.com/assets/colab-badge.svg\" alt=\"Open In Colab\"/></a>"
      ]
    },
    {
      "cell_type": "code",
      "metadata": {
        "colab": {
          "base_uri": "https://localhost:8080/"
        },
        "id": "HSpvYyOINDoE",
        "outputId": "9e76dc5a-bd07-4cde-f966-313743ea1ab7"
      },
      "source": [
        "bt=[]   # Burst Time\n",
        "print(\"Enter the number of process: \")\n",
        "n=int(input())\n",
        "processes=[]\n",
        "for i in range(0,n):\n",
        "    processes.insert(i,i+1)\n",
        "print(\"Enter the burst time of the processes: \\n\")\n",
        "burst=list(map(int,input().split()))\n",
        "for i in range(0,len(bt)-1):  #applying bubble sort to sort process according to their burst time\n",
        "    for j in range(0,len(bt)-i-1):\n",
        "        if(burst[j]>burst[j+1]):\n",
        "            temp=burst[j]\n",
        "            burst[j]=burst[j+1]\n",
        "            burst[j+1]=temp\n",
        "            temp=processes[j]\n",
        "            processes[j]=processes[j+1]\n",
        "            processes[j+1]=temp\n",
        "wait=[]    # waiting time\n",
        "avgwt=0  #average of waiting time\n",
        "tat=[]    # turnaround time\n",
        "avgtat=0   #average of total turnaround time\n",
        "wait.insert(0,0)\n",
        "tat.insert(0,burst[0])\n",
        "for i in range(1,len(burst)):  \n",
        "    wait.insert(i,wait[i-1]+burst[i-1])\n",
        "    tat.insert(i,wait[i]+burst[i])\n",
        "    avgwt+=wait[i]\n",
        "    avgtat+=tat[i]\n",
        "avgwt=float(avgwt)/n\n",
        "avgtat=float(avgtat)/n\n",
        "print(\"\\n\")\n",
        "print(\"Process\\t  Burst Time\\t  Waiting Time\\t  Turn Around Time\")\n",
        "for i in range(0,n):\n",
        "    print(str(processes[i])+\"\\t\\t\"+str(burst[i])+\"\\t\\t\"+str(wait[i])+\"\\t\\t\"+str(tat[i]))\n",
        "\n",
        "print(\"Average Waiting time is: \"+str(avgwt))\n",
        "print(\"Average Turn Arount Time is: \"+str(avgtat))\n"
      ],
      "execution_count": 3,
      "outputs": [
        {
          "output_type": "stream",
          "text": [
            "Enter the number of process: \n",
            "5\n",
            "Enter the burst time of the processes: \n",
            "\n",
            "1 2 6 8 10\n",
            "\n",
            "\n",
            "Process\t  Burst Time\t  Waiting Time\t  Turn Around Time\n",
            "1\t\t1\t\t0\t\t1\n",
            "2\t\t2\t\t1\t\t3\n",
            "3\t\t6\t\t3\t\t9\n",
            "4\t\t8\t\t9\t\t17\n",
            "5\t\t10\t\t17\t\t27\n",
            "Average Waiting time is: 6.0\n",
            "Average Turn Arount Time is: 11.2\n"
          ],
          "name": "stdout"
        }
      ]
    },
    {
      "cell_type": "code",
      "metadata": {
        "colab": {
          "base_uri": "https://localhost:8080/"
        },
        "id": "My7_WFX3NEyR",
        "outputId": "c41dd50b-fe2d-43b9-e273-c55d086c3fe0"
      },
      "source": [
        "def findWaitingTime(process, n, wait_time):  \n",
        "    rt = [0] * n \n",
        "    for i in range(n):  \n",
        "        rt[i] = process[i][1] \n",
        "    complete = 0\n",
        "    t = 0\n",
        "    minm = 999999999\n",
        "    short = 0\n",
        "    check = False\n",
        "    while (complete != n):  \n",
        "        for j in range(n): \n",
        "            if ((process[j][2] <= t) and \n",
        "                (rt[j] < minm) and rt[j] > 0): \n",
        "                minm = rt[j] \n",
        "                short = j \n",
        "                check = True\n",
        "        if (check == False): \n",
        "            t += 1\n",
        "            continue  \n",
        "        rt[short] -= 1 \n",
        "        minm = rt[short]  \n",
        "        if (minm == 0):  \n",
        "            minm = 999999999 \n",
        "        if (rt[short] == 0):    \n",
        "            complete += 1\n",
        "            check = False\n",
        "            fint = t + 1  \n",
        "            wait_time[short] = (fint - proc[short][1] -    \n",
        "                                proc[short][2]) \n",
        "  \n",
        "            if (wait_time[short] < 0): \n",
        "                wait_time[short] = 0\n",
        "        t += 1\n",
        "def findTurnAroundTime(process, n, wait_time, tat):                       #tat=turnaroundtime   \n",
        "    for i in range(n): \n",
        "        tat[i] = process[i][1] + wait_time[i]    \n",
        "def findavgTime(process, n):  \n",
        "    wait_time = [0] * n \n",
        "    tat = [0] * n  \n",
        "    findWaitingTime(process, n, wait_time)    \n",
        "    findTurnAroundTime(process, n, wait_time, tat)   \n",
        "    print(\"Processes    Burst Time     Waiting\",  \n",
        "                    \"Time     Turn Around Time\") \n",
        "    total_wait_time = 0\n",
        "    total_tat = 0\n",
        "    for i in range(n): \n",
        "  \n",
        "        total_wait_time = total_wait_time + wait_time[i]  \n",
        "        total_tat = total_tat + tat[i]  \n",
        "        print(\" \", process[i][0], \"\\t\\t\",  \n",
        "                   process[i][1], \"\\t\\t\",  \n",
        "                   wait_time[i], \"\\t\\t\", tat[i]) \n",
        "  \n",
        "    print(\"\\nAverage waiting time = %.5f \"%(total_wait_time /n) ) \n",
        "    print(\"Average turn around time = \", total_tat / n) \n",
        "if __name__ ==\"__main__\":   \n",
        "    proc=[]\n",
        "    for i in range(4):\n",
        "        pid=int(input(\"Enter process id for process {} :\".format(i+1)))\n",
        "        bt=int(input(\"Enter Burst Time for process {} :\".format(i+1)))\n",
        "        at=int(input(\"Enter arrival time for process {} :\".format(i+1)))\n",
        "        proc.append([pid,bt,at])   #bt=burst time     at=arrival time\n",
        "        n = len(proc)\n",
        "    findavgTime(proc, n)"
      ],
      "execution_count": 1,
      "outputs": [
        {
          "output_type": "stream",
          "text": [
            "Enter process id for process 1 :1\n",
            "Enter Burst Time for process 1 :2\n",
            "Enter arrival time for process 1 :3\n",
            "Enter process id for process 2 :2\n",
            "Enter Burst Time for process 2 :4\n",
            "Enter arrival time for process 2 :5\n",
            "Enter process id for process 3 :3\n",
            "Enter Burst Time for process 3 :6\n",
            "Enter arrival time for process 3 :7\n",
            "Enter process id for process 4 :4\n",
            "Enter Burst Time for process 4 :8\n",
            "Enter arrival time for process 4 :9\n",
            "Processes    Burst Time     Waiting Time     Turn Around Time\n",
            "  1 \t\t 2 \t\t 0 \t\t 2\n",
            "  2 \t\t 4 \t\t 0 \t\t 4\n",
            "  3 \t\t 6 \t\t 2 \t\t 8\n",
            "  4 \t\t 8 \t\t 6 \t\t 14\n",
            "\n",
            "Average waiting time = 2.00000 \n",
            "Average turn around time =  7.0\n"
          ],
          "name": "stdout"
        }
      ]
    },
    {
      "cell_type": "code",
      "metadata": {
        "id": "jHoN_D5yNgDD"
      },
      "source": [
        ""
      ],
      "execution_count": null,
      "outputs": []
    }
  ]
}