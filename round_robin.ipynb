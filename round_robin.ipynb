{
  "nbformat": 4,
  "nbformat_minor": 0,
  "metadata": {
    "colab": {
      "name": "round robin.ipynb",
      "provenance": [],
      "authorship_tag": "ABX9TyN38mI3Btm/mpBaRlaGvwBi",
      "include_colab_link": true
    },
    "kernelspec": {
      "name": "python3",
      "display_name": "Python 3"
    }
  },
  "cells": [
    {
      "cell_type": "markdown",
      "metadata": {
        "id": "view-in-github",
        "colab_type": "text"
      },
      "source": [
        "<a href=\"https://colab.research.google.com/github/ncukaran18csu103/karan_18csu103/blob/master/round_robin.ipynb\" target=\"_parent\"><img src=\"https://colab.research.google.com/assets/colab-badge.svg\" alt=\"Open In Colab\"/></a>"
      ]
    },
    {
      "cell_type": "code",
      "metadata": {
        "colab": {
          "base_uri": "https://localhost:8080/"
        },
        "id": "B3QRwTHXPcDQ",
        "outputId": "3a5c0d7c-866c-4eaa-d630-38cc6202fee5"
      },
      "source": [
        "def findWaitingTime(processes, n, bt,wt, quantum,arrival_time): \n",
        "    rem_bt = [0] * n  \n",
        "    for i in range(n): \n",
        "        rem_bt[i] = bt[i] \n",
        "    t = 0 \n",
        "    arrival=0\n",
        "    while(1): \n",
        "        done = True\n",
        "        for i in range(n):  \n",
        "            if (rem_bt[i] > 0) : \n",
        "                done = False \n",
        "\n",
        "                if (rem_bt[i] > quantum and arrival_time[i]<=arrival) :  \n",
        "                    t += quantum  \n",
        "                    rem_bt[i] -= quantum \n",
        "                    arrival=arrival+1\n",
        "                else:\n",
        "                    if(arrival_time[i]<=arrival):\n",
        "                        arrival=arrival+1\n",
        "                        t = t + rem_bt[i]  \n",
        "                        wt[i] = t - bt[i]  \n",
        "                        rem_bt[i] = 0 \n",
        "        if (done == True): \n",
        "            break \n",
        "def findTurnAroundTime(processes, n, bt, wt, tat,arrival_time): \n",
        "    for i in range(n): \n",
        "        tat[i] = bt[i] + wt[i] - arrival_time[i]\n",
        "def findavgTime(processes, n, bt, quantum,arrival_time): \n",
        "    wt = [0] * n \n",
        "    tat = [0] * n  \n",
        "    findWaitingTime(processes, n, bt,wt, quantum,arrival_time)  \n",
        "    findTurnAroundTime(processes, n, bt, wt, tat,arrival_time)  \n",
        "    print(\"Processes Burst Time Waiting\",\" Arrival Time\\t\", \n",
        "          \"Time Turn-Around Time\") \n",
        "    total_wt = 0\n",
        "    total_tat = 0\n",
        "    for i in range(n): \n",
        "        total_wt = total_wt + wt[i] \n",
        "        total_tat = total_tat + tat[i] \n",
        "        print(\" \", i + 1, \"\\t\\t\", arrival_time[i],\"\\t\\t\", bt[i], \"\\t\\t\", wt[i], \"\\t\\t\", tat[i]) \n",
        "    print(\"\\nAverage waiting time = %.5f \"%(total_wt /n) ) \n",
        "    print(\"Average turn around time = %.5f \"% (total_tat / n)) \n",
        "if __name__ ==\"__main__\": \n",
        "    quantum=2\n",
        "    arrival_time=[0,1,3,5]\n",
        "    proc=[1,2,3,4]\n",
        "    burst_time=[7,5,3,1]\n",
        "    n=len(proc)\n",
        "    findavgTime(proc, n, burst_time, quantum,arrival_time)"
      ],
      "execution_count": 3,
      "outputs": [
        {
          "output_type": "stream",
          "text": [
            "Processes Burst Time Waiting  Arrival Time\t Time Turn-Around Time\n",
            "  1 \t\t 0 \t\t 7 \t\t 9 \t\t 16\n",
            "  2 \t\t 1 \t\t 5 \t\t 9 \t\t 13\n",
            "  3 \t\t 3 \t\t 3 \t\t 12 \t\t 12\n",
            "  4 \t\t 5 \t\t 1 \t\t 10 \t\t 6\n",
            "\n",
            "Average waiting time = 10.00000 \n",
            "Average turn around time = 11.75000 \n"
          ],
          "name": "stdout"
        }
      ]
    },
    {
      "cell_type": "code",
      "metadata": {
        "colab": {
          "base_uri": "https://localhost:8080/"
        },
        "id": "1nrMKw81Pgay",
        "outputId": "78b5fbdc-af73-4ea6-8260-d6d56b426d60"
      },
      "source": [
        "def findWaitingTime(processes, n, bt,wt, quantum): \n",
        "    rem_bt = [0] * n  \n",
        "    for i in range(n): \n",
        "        rem_bt[i] = bt[i] \n",
        "    t = 0  \n",
        "    while(1): \n",
        "        done = True\n",
        "        for i in range(n):  \n",
        "            if (rem_bt[i] > 0) : \n",
        "                done = False \n",
        "\n",
        "                if (rem_bt[i] > quantum) :  \n",
        "                    t += quantum  \n",
        "                    rem_bt[i] -= quantum  \n",
        "                else: \n",
        "                    t = t + rem_bt[i]  \n",
        "                    wt[i] = t - bt[i]  \n",
        "                    rem_bt[i] = 0 \n",
        "        if (done == True): \n",
        "            break \n",
        "def findTurnAroundTime(processes, n, bt, wt, tat): \n",
        "    for i in range(n): \n",
        "        tat[i] = bt[i] + wt[i]  \n",
        "def findavgTime(processes, n, bt, quantum): \n",
        "    wt = [0] * n \n",
        "    tat = [0] * n  \n",
        "    findWaitingTime(processes, n, bt,wt, quantum)  \n",
        "    findTurnAroundTime(processes, n, bt, wt, tat)  \n",
        "    print(\"Processes Burst Time Waiting\", \n",
        "          \"Time Turn-Around Time\") \n",
        "    total_wt = 0\n",
        "    total_tat = 0\n",
        "    for i in range(n): \n",
        "\n",
        "        total_wt = total_wt + wt[i] \n",
        "        total_tat = total_tat + tat[i] \n",
        "        print(\" \", i + 1, \"\\t\\t\", bt[i], \"\\t\\t\", wt[i], \"\\t\\t\", tat[i]) \n",
        "\n",
        "    print(\"\\nAverage waiting time = %.5f \"%(total_wt /n) ) \n",
        "    print(\"Average turn around time = %.5f \"% (total_tat / n)) \n",
        "if __name__ ==\"__main__\": \n",
        "    num=int(input(\"Enter number of processes: \")) \n",
        "    quantum = 2\n",
        "    proc=[]\n",
        "    burst_time=[]\n",
        "    for i in range(num):\n",
        "        pid=int(input(\"Entern id for process {} :\".format(i+1)))\n",
        "        b_t=int(input(\"Enter Burst Time for process {} :\".format(i+1)))\n",
        "        proc.append(pid)\n",
        "        burst_time.append(b_t)\n",
        "    n = len(proc)\n",
        "    findavgTime(proc, n, burst_time, quantum)\n"
      ],
      "execution_count": 4,
      "outputs": [
        {
          "output_type": "stream",
          "text": [
            "Enter number of processes: 4\n",
            "Entern id for process 1 :1\n",
            "Enter Burst Time for process 1 :10\n",
            "Entern id for process 2 :2\n",
            "Enter Burst Time for process 2 :6\n",
            "Entern id for process 3 :3\n",
            "Enter Burst Time for process 3 :8\n",
            "Entern id for process 4 :4\n",
            "Enter Burst Time for process 4 :3\n",
            "Processes Burst Time Waiting Time Turn-Around Time\n",
            "  1 \t\t 10 \t\t 17 \t\t 27\n",
            "  2 \t\t 6 \t\t 13 \t\t 19\n",
            "  3 \t\t 8 \t\t 17 \t\t 25\n",
            "  4 \t\t 3 \t\t 12 \t\t 15\n",
            "\n",
            "Average waiting time = 14.75000 \n",
            "Average turn around time = 21.50000 \n"
          ],
          "name": "stdout"
        }
      ]
    },
    {
      "cell_type": "code",
      "metadata": {
        "id": "XfZBV17geFR-"
      },
      "source": [
        ""
      ],
      "execution_count": null,
      "outputs": []
    }
  ]
}