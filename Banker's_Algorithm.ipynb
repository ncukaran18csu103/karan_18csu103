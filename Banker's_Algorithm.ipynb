{
  "nbformat": 4,
  "nbformat_minor": 0,
  "metadata": {
    "colab": {
      "name": "Banker's Algorithm.ipynb",
      "provenance": [],
      "authorship_tag": "ABX9TyOojsqISjKouInVNSVWd9bR",
      "include_colab_link": true
    },
    "kernelspec": {
      "name": "python3",
      "display_name": "Python 3"
    }
  },
  "cells": [
    {
      "cell_type": "markdown",
      "metadata": {
        "id": "view-in-github",
        "colab_type": "text"
      },
      "source": [
        "<a href=\"https://colab.research.google.com/github/ncukaran18csu103/karan_18csu103/blob/master/Banker's_Algorithm.ipynb\" target=\"_parent\"><img src=\"https://colab.research.google.com/assets/colab-badge.svg\" alt=\"Open In Colab\"/></a>"
      ]
    },
    {
      "cell_type": "code",
      "metadata": {
        "colab": {
          "base_uri": "https://localhost:8080/"
        },
        "id": "_cvK8Yk3S-Js",
        "outputId": "b3197677-09eb-450a-e41f-90e438b23261"
      },
      "source": [
        "#code for bankers algorithm\n",
        "def main():\n",
        "    processes = int(input(\"number of processes : \"))  #inputting number of processes\n",
        "    resources = int(input(\"number of resources : \"))  #no of resurces\n",
        "    max_resources = [int(i) for i in input(\"maximum resources : \").split()]   # max resources A B C D\n",
        "\n",
        "    print(\"\\n-- allocated resources for each process --\")\n",
        "    currently_allocated = [[int(i) for i in input(f\"process {j + 1} : \").split()] for j in range(processes)]  #inputing the resoursces \n",
        "\n",
        "    print(\"\\n-- maximum resources for each process --\")\n",
        "    max_need = [[int(i) for i in input(f\"process {j + 1} : \").split()] for j in range(processes)]   #maximum allocation in each process\n",
        "\n",
        "    allocated = [0] * resources\n",
        "    for i in range(processes):\n",
        "        for j in range(resources):\n",
        "            allocated[j] += currently_allocated[i][j]\n",
        "    print(f\"\\ntotal allocated resources : {allocated}\")   # total avialable                 allocated[j] = allocated[j] + currently_allocated[i][j]\n",
        "\n",
        "    available = [max_resources[i] - allocated[i] for i in range(resources)]\n",
        "    print(f\"total available resources : {available}\\n\")                 #available = max-allocated\n",
        "\n",
        "    running = [True] * processes\n",
        "    count = processes\n",
        "    while count != 0:\n",
        "        safe = False\n",
        "        for i in range(processes):\n",
        "            if running[i]:\n",
        "                executing = True\n",
        "                for j in range(resources):\n",
        "                    if max_need[i][j] - currently_allocated[i][j] > available[j]: \n",
        "                        executing = False\n",
        "                        break\n",
        "                if executing:\n",
        "                    print(f\"process {i + 1} is executing\")\n",
        "                    running[i] = False\n",
        "                    count -= 1\n",
        "                    safe = True\n",
        "                    for j in range(resources):\n",
        "                        available[j] += currently_allocated[i][j]\n",
        "                    break\n",
        "        if not safe:\n",
        "            print(\"the processes are in an unsafe state.\")\n",
        "            break\n",
        "\n",
        "        print(f\"the process is in a safe state.\\navailable resources : {available}\\n\")\n",
        "\n",
        "\n",
        "if __name__ == '__main__':\n",
        "    main()\n"
      ],
      "execution_count": 2,
      "outputs": [
        {
          "output_type": "stream",
          "text": [
            "number of processes : 5\n",
            "number of resources : 4\n",
            "maximum resources : 8 5 9 7\n",
            "\n",
            "-- allocated resources for each process --\n",
            "process 1 : 2 0 1 1\n",
            "process 2 : 0 1 2 1\n",
            "process 3 : 4 0 0 3\n",
            "process 4 : 0 2 1 0\n",
            "process 5 : 1 0 3 0\n",
            "\n",
            "-- maximum resources for each process --\n",
            "process 1 : 3 2 1 4 \n",
            "process 2 : 0 2 5 2\n",
            "process 3 : 5 1 0 5\n",
            "process 4 : 1 5 3  0\n",
            "process 5 : 3 0 3 3\n",
            "\n",
            "total allocated resources : [7, 3, 7, 5]\n",
            "total available resources : [1, 2, 2, 2]\n",
            "\n",
            "process 3 is executing\n",
            "the process is in a safe state.\n",
            "available resources : [5, 2, 2, 5]\n",
            "\n",
            "process 1 is executing\n",
            "the process is in a safe state.\n",
            "available resources : [7, 2, 3, 6]\n",
            "\n",
            "process 2 is executing\n",
            "the process is in a safe state.\n",
            "available resources : [7, 3, 5, 7]\n",
            "\n",
            "process 4 is executing\n",
            "the process is in a safe state.\n",
            "available resources : [7, 5, 6, 7]\n",
            "\n",
            "process 5 is executing\n",
            "the process is in a safe state.\n",
            "available resources : [8, 5, 9, 7]\n",
            "\n"
          ],
          "name": "stdout"
        }
      ]
    },
    {
      "cell_type": "code",
      "metadata": {
        "id": "IjOZB0QETCtv"
      },
      "source": [
        " "
      ],
      "execution_count": null,
      "outputs": []
    }
  ]
}