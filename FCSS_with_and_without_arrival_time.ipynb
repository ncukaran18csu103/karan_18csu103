{
  "nbformat": 4,
  "nbformat_minor": 0,
  "metadata": {
    "colab": {
      "name": "FCSS_with_and without_arrival_time.ipynb",
      "provenance": [],
      "authorship_tag": "ABX9TyPMUUAowrN8/A52ngIZyHSN",
      "include_colab_link": true
    },
    "kernelspec": {
      "name": "python3",
      "display_name": "Python 3"
    }
  },
  "cells": [
    {
      "cell_type": "markdown",
      "metadata": {
        "id": "view-in-github",
        "colab_type": "text"
      },
      "source": [
        "<a href=\"https://colab.research.google.com/github/ncukaran18csu103/karan_18csu103/blob/master/FCSS_with_and_without_arrival_time.ipynb\" target=\"_parent\"><img src=\"https://colab.research.google.com/assets/colab-badge.svg\" alt=\"Open In Colab\"/></a>"
      ]
    },
    {
      "cell_type": "code",
      "metadata": {
        "colab": {
          "base_uri": "https://localhost:8080/"
        },
        "id": "cpchmDqJC6Ko",
        "outputId": "dfce0c1b-b2b5-40e8-b22c-cb1fe24bfb35"
      },
      "source": [
        "#FCFS witha and without arrival time\n",
        "#karan 18csu103\n",
        "\n",
        "def TurnAroundTime(processes, n, BT, wt, tat):  \n",
        "    for i in range(n): \n",
        "        tat[i] = BT[i] + wt[i]\n",
        "def WaitingTime(processes, n, BT, wt, at):  \n",
        "    serv_time = [0] * n  \n",
        "    serv_time[0] = 0\n",
        "    wt[0] = 0\n",
        "    for i in range(1, n):  \n",
        "        serv_time[i] = (serv_time[i - 1] + BT[i - 1])    \n",
        "        wt[i] = serv_time[i] - at[i]  \n",
        "        if (wt[i] < 0): \n",
        "            wt[i] = 0         \n",
        "def avgTime(processes, n, BT, at):  \n",
        "    wt = [0] * n \n",
        "    tat = [0] * n  \n",
        "    WaitingTime(processes, n, BT, wt, at) \n",
        "    TurnAroundTime(processes, n, BT, wt, tat)  \n",
        "    print(\"Processes   Burst Time   Arrival Time     Waiting\",  \n",
        "          \"Time   Turn-Around Time \\n\") \n",
        "    total_wt = 0\n",
        "    total_tat = 0\n",
        "    for i in range(n): \n",
        "        total_wt = total_wt + wt[i]  \n",
        "        total_tat = total_tat + tat[i]  \n",
        "        print(\" \", i + 1, \"\\t\\t\", BT[i], \"\\t\\t\", at[i],  \n",
        "              \"\\t\\t\", wt[i], \"\\t\\t \", tat[i])  \n",
        "    print(\"Average waiting time: \",(total_wt /n)) \n",
        "    print(\"\\nAverage turn around time \", total_tat / n)  \n",
        "at = [1, 5,10]  #Arrival time\n",
        "processes = [1, 2, 3] \n",
        "BT = [2, 4, 10]  \n",
        "n = 3\n",
        "avgTime(processes, n, BT, at)\n"
      ],
      "execution_count": 11,
      "outputs": [
        {
          "output_type": "stream",
          "text": [
            "Processes   Burst Time   Arrival Time     Waiting Time   Turn-Around Time \n",
            "\n",
            "  1 \t\t 2 \t\t 1 \t\t 0 \t\t  2\n",
            "  2 \t\t 4 \t\t 5 \t\t 0 \t\t  4\n",
            "  3 \t\t 10 \t\t 10 \t\t 0 \t\t  10\n",
            "Average waiting time:  0.0\n",
            "\n",
            "Average turn around time  5.333333333333333\n"
          ],
          "name": "stdout"
        }
      ]
    },
    {
      "cell_type": "code",
      "metadata": {
        "colab": {
          "base_uri": "https://localhost:8080/"
        },
        "id": "WlY5rGBCC_Ut",
        "outputId": "ed2db382-80ee-4e31-af40-5559b2827d88"
      },
      "source": [
        "BT=[]\n",
        "print(\"Enter the number of process: \")\n",
        "n=int(input())\n",
        "print(\"Enter the burst time of the processes: \\n\")\n",
        "for i in range(0,n):\n",
        "    x=int(input())\n",
        "    Bt.append(x)\n",
        "\n",
        "WT=[]\n",
        "avgwt=0\n",
        "tat=[]\n",
        "avgtat=0\n",
        "\n",
        "WT.insert(0,0)\n",
        "tat.insert(0,bt[0])\n",
        "\n",
        "for i in range(1,len(bt)):\n",
        "    WT.insert(i,WT[i-1]+BT[i-1])\n",
        "    tat.insert(i,WT[i]+BT[i])\n",
        "    avgwt+=WT[i]\n",
        "    avgtat+=tat[i]\n",
        "\n",
        "avgwt=float(avgwt)/n\n",
        "avgtat=float(avgtat)/n\n",
        "print(\"\\n\")\n",
        "print(\"Process\\t  Burst Time\\t  Waiting Time\\t  Turn Around Time\")\n",
        "for i in range(0,n):\n",
        "    print(str(i)+\"\\t\\t\"+str(BT[i])+\"\\t\\t\"+str(WT[i])+\"\\t\\t\"+str(tat[i]))\n",
        "    print(\"\\n\")\n",
        "print(\"Average Waiting time is: \"+str(avgwt))\n",
        "print(\"Average Turn Arount Time is: \"+str(avgtat))\n"
      ],
      "execution_count": null,
      "outputs": [
        {
          "output_type": "stream",
          "text": [
            "Enter the number of process: \n"
          ],
          "name": "stdout"
        }
      ]
    },
    {
      "cell_type": "code",
      "metadata": {
        "id": "f__0heszK_ov"
      },
      "source": [
        ""
      ],
      "execution_count": null,
      "outputs": []
    }
  ]
}